{
 "cells": [
  {
   "cell_type": "code",
   "execution_count": 25,
   "id": "cc1cfce3-17a5-4607-bc44-bcb483d05441",
   "metadata": {},
   "outputs": [],
   "source": [
    "import os\n",
    "import time\n",
    "import langchain\n",
    "from langchain_openai import OpenAI\n",
    "from langchain.chains import RetrievalQAWithSourcesChain\n",
    "from langchain.chains.qa_with_sources.loading import load_qa_with_sources_chain\n",
    "from langchain.text_splitter import RecursiveCharacterTextSplitter\n",
    "from langchain.document_loaders import UnstructuredURLLoader\n",
    "from langchain.embeddings import OpenAIEmbeddings\n",
    "from langchain.vectorstores import FAISS"
   ]
  },
  {
   "cell_type": "code",
   "execution_count": 5,
   "id": "a17cf213-c6f1-44d1-88d0-af3923815131",
   "metadata": {},
   "outputs": [],
   "source": [
    "os.environ['OPENAI_API_KEY'] = 'ENTER-YOUR-API-KEY-FOR-VECTORIZATION'"
   ]
  },
  {
   "cell_type": "code",
   "execution_count": 6,
   "id": "6768e566-c8ea-40c7-823c-39ef7b96b75e",
   "metadata": {},
   "outputs": [],
   "source": [
    "llm = OpenAI(temperature=0.9, max_tokens=500)"
   ]
  },
  {
   "cell_type": "code",
   "execution_count": 34,
   "id": "bf7a3ce5-998f-4260-a538-c98b4b248399",
   "metadata": {},
   "outputs": [
    {
     "name": "stdout",
     "output_type": "stream",
     "text": [
      "Number of fetched URLs: 6\n"
     ]
    }
   ],
   "source": [
    "urls = [\n",
    "    \"https://finance.yahoo.com/world-indices/\",\n",
    "     \"https://www.geo.tv/latest/537434-ex-cjp-jilani-refuses-to-head-commission-formed-to-probe-ihc-judges-letter\",\n",
    "    \"https://www.geo.tv/latest/537318-petrol-price-goes-up-by-rs966-per-litre\",\n",
    "    \"https://www.geo.tv/latest/537379-british-museum-probed-over-concealed-ethiopian-artefacts-held-for-150-years\",\n",
    "    \"https://www.geo.tv/latest/537410-senate-elections-2024-ecp-finalises-preparations-for-polling-tomorrow\",\n",
    "    \"https://www.binance.com/en/markets/overview\",\n",
    "]\n",
    "\n",
    "loaders = UnstructuredURLLoader(urls=urls)\n",
    "\n",
    "data = loaders.load()\n",
    "\n",
    "print(\"Number of fetched URLs:\", len(data))"
   ]
  },
  {
   "cell_type": "code",
   "execution_count": 18,
   "id": "7b04dea4-5c0a-45ad-92d6-6b03b73247c8",
   "metadata": {},
   "outputs": [
    {
     "data": {
      "text/plain": [
       "33"
      ]
     },
     "execution_count": 18,
     "metadata": {},
     "output_type": "execute_result"
    }
   ],
   "source": [
    "text_splitter = RecursiveCharacterTextSplitter(\n",
    "    chunk_size = 1000,\n",
    "    separators=['\\n\\n', '\\n', '.', ','],\n",
    ")\n",
    "docs = text_splitter.split_documents(data)\n",
    "len(docs)"
   ]
  },
  {
   "cell_type": "code",
   "execution_count": 41,
   "id": "9fbfc533-8e95-4b2f-b7d4-07c1686a6ed1",
   "metadata": {},
   "outputs": [
    {
     "data": {
      "text/plain": [
       "Document(page_content='According to the Election Commission of Pakistan (ECP), the elections aim to fill the seats left vacant by half of the current senators who retired on March 12. Out of the 52 senators who completed their six-year terms and retired, elections are being held for 48 seats.\\n\\nThis is because four seats were abolished following the merger of the former federally administered tribal areas (FATA) regions into the Khyber-Pakhtunkhwa province.\\n\\nConsequently, the Senate’s total number of seats has decreased from 100 to 96. Recently, the ECP released a detailed code of conduct for parties and candidates ahead of the Senate elections.\\n\\nThe code aims to guarantee transparency, integrity, and fairness throughout the electoral process. The code of conduct imposes stringent guidelines on political parties and candidates involved in the elections.', metadata={'source': 'https://www.geo.tv/latest/537410-senate-elections-2024-ecp-finalises-preparations-for-polling-tomorrow'})"
      ]
     },
     "execution_count": 41,
     "metadata": {},
     "output_type": "execute_result"
    }
   ],
   "source": [
    "docs[30]"
   ]
  },
  {
   "cell_type": "code",
   "execution_count": 20,
   "id": "ebcd33cd-5aee-468d-b3d5-2feb008c0b81",
   "metadata": {},
   "outputs": [
    {
     "name": "stderr",
     "output_type": "stream",
     "text": [
      "D:\\Knowledge Streams\\DS\\Lib\\site-packages\\langchain_core\\_api\\deprecation.py:117: LangChainDeprecationWarning: The class `langchain_community.embeddings.openai.OpenAIEmbeddings` was deprecated in langchain-community 0.0.9 and will be removed in 0.2.0. An updated version of the class exists in the langchain-openai package and should be used instead. To use it run `pip install -U langchain-openai` and import as `from langchain_openai import OpenAIEmbeddings`.\n",
      "  warn_deprecated(\n"
     ]
    }
   ],
   "source": [
    "embeddings = OpenAIEmbeddings()"
   ]
  },
  {
   "cell_type": "code",
   "execution_count": 21,
   "id": "416c6ba2-1001-4ad9-8957-464de945674b",
   "metadata": {
    "scrolled": true
   },
   "outputs": [],
   "source": [
    "vectorindex_openai = FAISS.from_documents(docs, embeddings)"
   ]
  },
  {
   "cell_type": "code",
   "execution_count": 30,
   "id": "d2b2ff2c-79db-4efc-8b15-acc575b01111",
   "metadata": {},
   "outputs": [],
   "source": [
    "vectorindex_openai.save_local(\"LLM_MODEL\")"
   ]
  },
  {
   "cell_type": "code",
   "execution_count": 31,
   "id": "590927e2-b25f-41a8-b624-de481074cff0",
   "metadata": {},
   "outputs": [],
   "source": [
    "model = FAISS.load_local(\"LLM_MODEL\", embeddings, allow_dangerous_deserialization=True)"
   ]
  },
  {
   "cell_type": "code",
   "execution_count": 32,
   "id": "8ba2751e-a93c-42e0-8300-7482635213a8",
   "metadata": {},
   "outputs": [
    {
     "data": {
      "text/plain": [
       "RetrievalQAWithSourcesChain(combine_documents_chain=MapReduceDocumentsChain(llm_chain=LLMChain(prompt=PromptTemplate(input_variables=['context', 'question'], template='Use the following portion of a long document to see if any of the text is relevant to answer the question. \\nReturn any relevant text verbatim.\\n{context}\\nQuestion: {question}\\nRelevant text, if any:'), llm=OpenAI(client=<openai.resources.completions.Completions object at 0x000001A1948157F0>, async_client=<openai.resources.completions.AsyncCompletions object at 0x000001A18D853BF0>, temperature=0.9, max_tokens=500, openai_api_key=SecretStr('**********'), openai_proxy='')), reduce_documents_chain=ReduceDocumentsChain(combine_documents_chain=StuffDocumentsChain(llm_chain=LLMChain(prompt=PromptTemplate(input_variables=['question', 'summaries'], template='Given the following extracted parts of a long document and a question, create a final answer with references (\"SOURCES\"). \\nIf you don\\'t know the answer, just say that you don\\'t know. Don\\'t try to make up an answer.\\nALWAYS return a \"SOURCES\" part in your answer.\\n\\nQUESTION: Which state/country\\'s law governs the interpretation of the contract?\\n=========\\nContent: This Agreement is governed by English law and the parties submit to the exclusive jurisdiction of the English courts in  relation to any dispute (contractual or non-contractual) concerning this Agreement save that either party may apply to any court for an  injunction or other relief to protect its Intellectual Property Rights.\\nSource: 28-pl\\nContent: No Waiver. Failure or delay in exercising any right or remedy under this Agreement shall not constitute a waiver of such (or any other)  right or remedy.\\n\\n11.7 Severability. The invalidity, illegality or unenforceability of any term (or part of a term) of this Agreement shall not affect the continuation  in force of the remainder of the term (if any) and this Agreement.\\n\\n11.8 No Agency. Except as expressly stated otherwise, nothing in this Agreement shall create an agency, partnership or joint venture of any  kind between the parties.\\n\\n11.9 No Third-Party Beneficiaries.\\nSource: 30-pl\\nContent: (b) if Google believes, in good faith, that the Distributor has violated or caused Google to violate any Anti-Bribery Laws (as  defined in Clause 8.5) or that such a violation is reasonably likely to occur,\\nSource: 4-pl\\n=========\\nFINAL ANSWER: This Agreement is governed by English law.\\nSOURCES: 28-pl\\n\\nQUESTION: What did the president say about Michael Jackson?\\n=========\\nContent: Madam Speaker, Madam Vice President, our First Lady and Second Gentleman. Members of Congress and the Cabinet. Justices of the Supreme Court. My fellow Americans.  \\n\\nLast year COVID-19 kept us apart. This year we are finally together again. \\n\\nTonight, we meet as Democrats Republicans and Independents. But most importantly as Americans. \\n\\nWith a duty to one another to the American people to the Constitution. \\n\\nAnd with an unwavering resolve that freedom will always triumph over tyranny. \\n\\nSix days ago, Russia’s Vladimir Putin sought to shake the foundations of the free world thinking he could make it bend to his menacing ways. But he badly miscalculated. \\n\\nHe thought he could roll into Ukraine and the world would roll over. Instead he met a wall of strength he never imagined. \\n\\nHe met the Ukrainian people. \\n\\nFrom President Zelenskyy to every Ukrainian, their fearlessness, their courage, their determination, inspires the world. \\n\\nGroups of citizens blocking tanks with their bodies. Everyone from students to retirees teachers turned soldiers defending their homeland.\\nSource: 0-pl\\nContent: And we won’t stop. \\n\\nWe have lost so much to COVID-19. Time with one another. And worst of all, so much loss of life. \\n\\nLet’s use this moment to reset. Let’s stop looking at COVID-19 as a partisan dividing line and see it for what it is: A God-awful disease.  \\n\\nLet’s stop seeing each other as enemies, and start seeing each other for who we really are: Fellow Americans.  \\n\\nWe can’t change how divided we’ve been. But we can change how we move forward—on COVID-19 and other issues we must face together. \\n\\nI recently visited the New York City Police Department days after the funerals of Officer Wilbert Mora and his partner, Officer Jason Rivera. \\n\\nThey were responding to a 9-1-1 call when a man shot and killed them with a stolen gun. \\n\\nOfficer Mora was 27 years old. \\n\\nOfficer Rivera was 22. \\n\\nBoth Dominican Americans who’d grown up on the same streets they later chose to patrol as police officers. \\n\\nI spoke with their families and told them that we are forever in debt for their sacrifice, and we will carry on their mission to restore the trust and safety every community deserves.\\nSource: 24-pl\\nContent: And a proud Ukrainian people, who have known 30 years  of independence, have repeatedly shown that they will not tolerate anyone who tries to take their country backwards.  \\n\\nTo all Americans, I will be honest with you, as I’ve always promised. A Russian dictator, invading a foreign country, has costs around the world. \\n\\nAnd I’m taking robust action to make sure the pain of our sanctions  is targeted at Russia’s economy. And I will use every tool at our disposal to protect American businesses and consumers. \\n\\nTonight, I can announce that the United States has worked with 30 other countries to release 60 Million barrels of oil from reserves around the world.  \\n\\nAmerica will lead that effort, releasing 30 Million barrels from our own Strategic Petroleum Reserve. And we stand ready to do more if necessary, unified with our allies.  \\n\\nThese steps will help blunt gas prices here at home. And I know the news about what’s happening can seem alarming. \\n\\nBut I want you to know that we are going to be okay.\\nSource: 5-pl\\nContent: More support for patients and families. \\n\\nTo get there, I call on Congress to fund ARPA-H, the Advanced Research Projects Agency for Health. \\n\\nIt’s based on DARPA—the Defense Department project that led to the Internet, GPS, and so much more.  \\n\\nARPA-H will have a singular purpose—to drive breakthroughs in cancer, Alzheimer’s, diabetes, and more. \\n\\nA unity agenda for the nation. \\n\\nWe can do this. \\n\\nMy fellow Americans—tonight , we have gathered in a sacred space—the citadel of our democracy. \\n\\nIn this Capitol, generation after generation, Americans have debated great questions amid great strife, and have done great things. \\n\\nWe have fought for freedom, expanded liberty, defeated totalitarianism and terror. \\n\\nAnd built the strongest, freest, and most prosperous nation the world has ever known. \\n\\nNow is the hour. \\n\\nOur moment of responsibility. \\n\\nOur test of resolve and conscience, of history itself. \\n\\nIt is in this moment that our character is formed. Our purpose is found. Our future is forged. \\n\\nWell I know this nation.\\nSource: 34-pl\\n=========\\nFINAL ANSWER: The president did not mention Michael Jackson.\\nSOURCES:\\n\\nQUESTION: {question}\\n=========\\n{summaries}\\n=========\\nFINAL ANSWER:'), llm=OpenAI(client=<openai.resources.completions.Completions object at 0x000001A1948157F0>, async_client=<openai.resources.completions.AsyncCompletions object at 0x000001A18D853BF0>, temperature=0.9, max_tokens=500, openai_api_key=SecretStr('**********'), openai_proxy='')), document_prompt=PromptTemplate(input_variables=['page_content', 'source'], template='Content: {page_content}\\nSource: {source}'), document_variable_name='summaries')), document_variable_name='context'), retriever=VectorStoreRetriever(tags=['FAISS', 'OpenAIEmbeddings'], vectorstore=<langchain_community.vectorstores.faiss.FAISS object at 0x000001A192E0DA30>))"
      ]
     },
     "execution_count": 32,
     "metadata": {},
     "output_type": "execute_result"
    }
   ],
   "source": [
    "chain = RetrievalQAWithSourcesChain.from_llm(llm = llm, retriever = vectorindex_openai.as_retriever())\n",
    "chain"
   ]
  },
  {
   "cell_type": "code",
   "execution_count": 35,
   "id": "9fb2eda1-29ec-467c-985b-bf3226e37fd7",
   "metadata": {},
   "outputs": [
    {
     "name": "stdout",
     "output_type": "stream",
     "text": [
      "\u001b[32;1m\u001b[1;3m[chain/start]\u001b[0m \u001b[1m[1:chain:RetrievalQAWithSourcesChain] Entering Chain run with input:\n",
      "\u001b[0m{\n",
      "  \"question\": \"what is the price of BNB?\"\n",
      "}\n",
      "\u001b[32;1m\u001b[1;3m[chain/start]\u001b[0m \u001b[1m[1:chain:RetrievalQAWithSourcesChain > 3:chain:MapReduceDocumentsChain] Entering Chain run with input:\n",
      "\u001b[0m[inputs]\n",
      "\u001b[32;1m\u001b[1;3m[chain/start]\u001b[0m \u001b[1m[1:chain:RetrievalQAWithSourcesChain > 3:chain:MapReduceDocumentsChain > 4:chain:LLMChain] Entering Chain run with input:\n",
      "\u001b[0m{\n",
      "  \"input_list\": [\n",
      "    {\n",
      "      \"context\": \"Mark Cuban Predicts World's First 'Trillionaire' Won't Be Musk Or Bezos — It'll Be Someone Who 'Masters AI' And Applies It In Brand New WaysBenzinga\\n\\nFord sales surge 6.8% powered by hybrids and EVsYahoo Finance\\n\\nWhy Apollo has a leg up in Paramount deal: AnalystYahoo Finance Video\\n\\nWhy are home prices so high?Yahoo Personal Finance\\n\\nDollar Tree Is Raising Prices: 9 Products To Buy Now Before They IncreaseGOBankingRates\\n\\nInvestors Paid $65,000 For A Deserted Florida Island. Now It's A Paradise Worth $14 MillionBenzinga\\n\\nLevi Strauss stock jumps after boosting forecastYahoo Finance Video\\n\\nMisinformation took over social media after the Key Bridge collapse. Why is this now a regular occurrence — and what can be done to stop it?Yahoo News\\n\\nStock market today: S&P 500, Nasdaq edge higher after Powell says rate cuts coming 'at some point' this yearYahoo Finance\\n\\nData Disclaimer\\n\\nHelp\\n\\nSuggestions\\n\\nTerms\\n\\nand\\n\\nPrivacy Policy\\n\\nPrivacy Dashboard\\n\\nAbout Our Ads\\n\\nSitemap\",\n",
      "      \"question\": \"what is the price of BNB?\"\n",
      "    },\n",
      "    {\n",
      "      \"context\": \"The government reviews fuel prices every 15 days and adjusts them based on the movements of global oil prices and the exchange rate of the local currency. The rupee has appreciated slightly against the dollar since the last price revision, trading at around 277.94 per dollar on Friday.\\n\\nThe latest increase in fuel prices came after Prime Minister Shehbaz Sharif-led government kept the price of petrol unchanged in the last fortnightly review after coming into power at the start of this month. It revised the HSD price downward by Rs1.77 per litre.\\n\\nPakistan, which imports about 85% of its oil needs, has been grappling with a balance of payments crisis and soaring inflation.\",\n",
      "      \"question\": \"what is the price of BNB?\"\n",
      "    },\n",
      "    {\n",
      "      \"context\": \"BloombergAsian Shares Rise as Focus Turns to Key Jobs Data: Markets Wrap(Bloomberg) -- Stocks in Asia gained ahead of Friday’s jobs data that may offer new clues on the US monetary policy outlook, after Jerome Powell reaffirmed that the Federal Reserve will likely lower rates this year.Most Read from BloombergKim Jong Un Faces Annihilation in Most Korea War ScenariosApple Explores Home Robotics as Potential ‘Next Big Thing’ After Car FizzlesTSMC Facilities to Resume Production Overnight After QuakeA Million Simulations, One Verdict for US Economy: Debt Danger AheadT\\n\\nInvestor's Business DailyDow Jones Futures: Why This Market Is So Risky; 983% Winner ELF Beauty Flashes Sell SignalSeveral stocks flashed buy signals Wednesday, but a sideways stock market is dangerous for investors. ELF Beauty sold off.\",\n",
      "      \"question\": \"what is the price of BNB?\"\n",
      "    },\n",
      "    {\n",
      "      \"context\": \"Home\\n\\nMail\\n\\nNews\\n\\nFinance\\n\\nSports\\n\\nEntertainment\\n\\nSearch\\n\\nMobile\\n\\nMore...\\n\\nYahoo Finance\\n\\nSkip to Navigation\\n\\nSkip to Main Content\\n\\nSkip to Related Content\\n\\nSign in\\n\\n\\n\\nMailSign in to view your mail\\n\\nWatchlists\\n\\nMy Portfolio\\n\\nMarkets\\n\\nNews\\n\\nVideos\\n\\nYahoo Finance Plus\\n\\nScreeners\\n\\nPersonal Finance\\n\\nCrypto\\n\\nSectors\\n\\nContact Us\\n\\nYF Chartbook\\n\\nCalendars\\n\\nTrending Tickers\\n\\nStocks: Most Actives\\n\\nStocks: Gainers\\n\\nStocks: Losers\\n\\nTop ETFs\\n\\nFutures\\n\\nWorld Indices\\n\\nCurrencies\\n\\nTop Mutual Funds\\n\\nOptions: Highest Open Interest\\n\\nOptions: Highest Implied Volatility\\n\\nUS Treasury Bonds Rates\\n\\nCurrency Converter\\n\\nWe are experiencing some temporary issues. The market data on this page is currently delayed. Please bear with us as we address this and restore your personalized lists.\\n\\nU.S. markets open in 8 hours 58 minutes\\n\\nS&P Futures5,281.00+14.50(+0.28%)\\n\\nDow Futures39,543.00+61.00(+0.15%)\\n\\nNasdaq Futures18,454.75+81.50(+0.44%)\\n\\nRussell 2000 Futures2,101.60+4.80(+0.23%)\\n\\nCrude Oil85.71+0.28(+0.33%)\",\n",
      "      \"question\": \"what is the price of BNB?\"\n",
      "    }\n",
      "  ]\n",
      "}\n",
      "\u001b[32;1m\u001b[1;3m[llm/start]\u001b[0m \u001b[1m[1:chain:RetrievalQAWithSourcesChain > 3:chain:MapReduceDocumentsChain > 4:chain:LLMChain > 5:llm:OpenAI] Entering LLM run with input:\n",
      "\u001b[0m{\n",
      "  \"prompts\": [\n",
      "    \"Use the following portion of a long document to see if any of the text is relevant to answer the question. \\nReturn any relevant text verbatim.\\nMark Cuban Predicts World's First 'Trillionaire' Won't Be Musk Or Bezos — It'll Be Someone Who 'Masters AI' And Applies It In Brand New WaysBenzinga\\n\\nFord sales surge 6.8% powered by hybrids and EVsYahoo Finance\\n\\nWhy Apollo has a leg up in Paramount deal: AnalystYahoo Finance Video\\n\\nWhy are home prices so high?Yahoo Personal Finance\\n\\nDollar Tree Is Raising Prices: 9 Products To Buy Now Before They IncreaseGOBankingRates\\n\\nInvestors Paid $65,000 For A Deserted Florida Island. Now It's A Paradise Worth $14 MillionBenzinga\\n\\nLevi Strauss stock jumps after boosting forecastYahoo Finance Video\\n\\nMisinformation took over social media after the Key Bridge collapse. Why is this now a regular occurrence — and what can be done to stop it?Yahoo News\\n\\nStock market today: S&P 500, Nasdaq edge higher after Powell says rate cuts coming 'at some point' this yearYahoo Finance\\n\\nData Disclaimer\\n\\nHelp\\n\\nSuggestions\\n\\nTerms\\n\\nand\\n\\nPrivacy Policy\\n\\nPrivacy Dashboard\\n\\nAbout Our Ads\\n\\nSitemap\\nQuestion: what is the price of BNB?\\nRelevant text, if any:\"\n",
      "  ]\n",
      "}\n",
      "\u001b[32;1m\u001b[1;3m[llm/start]\u001b[0m \u001b[1m[1:chain:RetrievalQAWithSourcesChain > 3:chain:MapReduceDocumentsChain > 4:chain:LLMChain > 6:llm:OpenAI] Entering LLM run with input:\n",
      "\u001b[0m{\n",
      "  \"prompts\": [\n",
      "    \"Use the following portion of a long document to see if any of the text is relevant to answer the question. \\nReturn any relevant text verbatim.\\nThe government reviews fuel prices every 15 days and adjusts them based on the movements of global oil prices and the exchange rate of the local currency. The rupee has appreciated slightly against the dollar since the last price revision, trading at around 277.94 per dollar on Friday.\\n\\nThe latest increase in fuel prices came after Prime Minister Shehbaz Sharif-led government kept the price of petrol unchanged in the last fortnightly review after coming into power at the start of this month. It revised the HSD price downward by Rs1.77 per litre.\\n\\nPakistan, which imports about 85% of its oil needs, has been grappling with a balance of payments crisis and soaring inflation.\\nQuestion: what is the price of BNB?\\nRelevant text, if any:\"\n",
      "  ]\n",
      "}\n",
      "\u001b[32;1m\u001b[1;3m[llm/start]\u001b[0m \u001b[1m[1:chain:RetrievalQAWithSourcesChain > 3:chain:MapReduceDocumentsChain > 4:chain:LLMChain > 7:llm:OpenAI] Entering LLM run with input:\n",
      "\u001b[0m{\n",
      "  \"prompts\": [\n",
      "    \"Use the following portion of a long document to see if any of the text is relevant to answer the question. \\nReturn any relevant text verbatim.\\nBloombergAsian Shares Rise as Focus Turns to Key Jobs Data: Markets Wrap(Bloomberg) -- Stocks in Asia gained ahead of Friday’s jobs data that may offer new clues on the US monetary policy outlook, after Jerome Powell reaffirmed that the Federal Reserve will likely lower rates this year.Most Read from BloombergKim Jong Un Faces Annihilation in Most Korea War ScenariosApple Explores Home Robotics as Potential ‘Next Big Thing’ After Car FizzlesTSMC Facilities to Resume Production Overnight After QuakeA Million Simulations, One Verdict for US Economy: Debt Danger AheadT\\n\\nInvestor's Business DailyDow Jones Futures: Why This Market Is So Risky; 983% Winner ELF Beauty Flashes Sell SignalSeveral stocks flashed buy signals Wednesday, but a sideways stock market is dangerous for investors. ELF Beauty sold off.\\nQuestion: what is the price of BNB?\\nRelevant text, if any:\"\n",
      "  ]\n",
      "}\n",
      "\u001b[32;1m\u001b[1;3m[llm/start]\u001b[0m \u001b[1m[1:chain:RetrievalQAWithSourcesChain > 3:chain:MapReduceDocumentsChain > 4:chain:LLMChain > 8:llm:OpenAI] Entering LLM run with input:\n",
      "\u001b[0m{\n",
      "  \"prompts\": [\n",
      "    \"Use the following portion of a long document to see if any of the text is relevant to answer the question. \\nReturn any relevant text verbatim.\\nHome\\n\\nMail\\n\\nNews\\n\\nFinance\\n\\nSports\\n\\nEntertainment\\n\\nSearch\\n\\nMobile\\n\\nMore...\\n\\nYahoo Finance\\n\\nSkip to Navigation\\n\\nSkip to Main Content\\n\\nSkip to Related Content\\n\\nSign in\\n\\n\\n\\nMailSign in to view your mail\\n\\nWatchlists\\n\\nMy Portfolio\\n\\nMarkets\\n\\nNews\\n\\nVideos\\n\\nYahoo Finance Plus\\n\\nScreeners\\n\\nPersonal Finance\\n\\nCrypto\\n\\nSectors\\n\\nContact Us\\n\\nYF Chartbook\\n\\nCalendars\\n\\nTrending Tickers\\n\\nStocks: Most Actives\\n\\nStocks: Gainers\\n\\nStocks: Losers\\n\\nTop ETFs\\n\\nFutures\\n\\nWorld Indices\\n\\nCurrencies\\n\\nTop Mutual Funds\\n\\nOptions: Highest Open Interest\\n\\nOptions: Highest Implied Volatility\\n\\nUS Treasury Bonds Rates\\n\\nCurrency Converter\\n\\nWe are experiencing some temporary issues. The market data on this page is currently delayed. Please bear with us as we address this and restore your personalized lists.\\n\\nU.S. markets open in 8 hours 58 minutes\\n\\nS&P Futures5,281.00+14.50(+0.28%)\\n\\nDow Futures39,543.00+61.00(+0.15%)\\n\\nNasdaq Futures18,454.75+81.50(+0.44%)\\n\\nRussell 2000 Futures2,101.60+4.80(+0.23%)\\n\\nCrude Oil85.71+0.28(+0.33%)\\nQuestion: what is the price of BNB?\\nRelevant text, if any:\"\n",
      "  ]\n",
      "}\n",
      "\u001b[36;1m\u001b[1;3m[llm/end]\u001b[0m \u001b[1m[1:chain:RetrievalQAWithSourcesChain > 3:chain:MapReduceDocumentsChain > 4:chain:LLMChain > 5:llm:OpenAI] [1.04s] Exiting LLM run with output:\n",
      "\u001b[0m{\n",
      "  \"generations\": [\n",
      "    [\n",
      "      {\n",
      "        \"text\": \" There is no relevant text related to the price of BNB in the given portion of the long document.\",\n",
      "        \"generation_info\": {\n",
      "          \"finish_reason\": \"stop\",\n",
      "          \"logprobs\": null\n",
      "        },\n",
      "        \"type\": \"Generation\"\n",
      "      }\n",
      "    ]\n",
      "  ],\n",
      "  \"llm_output\": {\n",
      "    \"token_usage\": {\n",
      "      \"total_tokens\": 1064,\n",
      "      \"prompt_tokens\": 1007,\n",
      "      \"completion_tokens\": 57\n",
      "    },\n",
      "    \"model_name\": \"gpt-3.5-turbo-instruct\"\n",
      "  },\n",
      "  \"run\": null\n",
      "}\n",
      "\u001b[36;1m\u001b[1;3m[llm/end]\u001b[0m \u001b[1m[1:chain:RetrievalQAWithSourcesChain > 3:chain:MapReduceDocumentsChain > 4:chain:LLMChain > 6:llm:OpenAI] [1.04s] Exiting LLM run with output:\n",
      "\u001b[0m{\n",
      "  \"generations\": [\n",
      "    [\n",
      "      {\n",
      "        \"text\": \" N/A.\",\n",
      "        \"generation_info\": {\n",
      "          \"finish_reason\": \"stop\",\n",
      "          \"logprobs\": null\n",
      "        },\n",
      "        \"type\": \"Generation\"\n",
      "      }\n",
      "    ]\n",
      "  ],\n",
      "  \"llm_output\": {\n",
      "    \"token_usage\": {},\n",
      "    \"model_name\": \"gpt-3.5-turbo-instruct\"\n",
      "  },\n",
      "  \"run\": null\n",
      "}\n",
      "\u001b[36;1m\u001b[1;3m[llm/end]\u001b[0m \u001b[1m[1:chain:RetrievalQAWithSourcesChain > 3:chain:MapReduceDocumentsChain > 4:chain:LLMChain > 7:llm:OpenAI] [1.04s] Exiting LLM run with output:\n",
      "\u001b[0m{\n",
      "  \"generations\": [\n",
      "    [\n",
      "      {\n",
      "        \"text\": \" None\",\n",
      "        \"generation_info\": {\n",
      "          \"finish_reason\": \"stop\",\n",
      "          \"logprobs\": null\n",
      "        },\n",
      "        \"type\": \"Generation\"\n",
      "      }\n",
      "    ]\n",
      "  ],\n",
      "  \"llm_output\": {\n",
      "    \"token_usage\": {},\n",
      "    \"model_name\": \"gpt-3.5-turbo-instruct\"\n",
      "  },\n",
      "  \"run\": null\n",
      "}\n",
      "\u001b[36;1m\u001b[1;3m[llm/end]\u001b[0m \u001b[1m[1:chain:RetrievalQAWithSourcesChain > 3:chain:MapReduceDocumentsChain > 4:chain:LLMChain > 8:llm:OpenAI] [1.04s] Exiting LLM run with output:\n",
      "\u001b[0m{\n",
      "  \"generations\": [\n",
      "    [\n",
      "      {\n",
      "        \"text\": \" /None. Sorry, I cannot answer this question as there is no mention of BNB or any other specific currency or stock in this portion of the document.\",\n",
      "        \"generation_info\": {\n",
      "          \"finish_reason\": \"stop\",\n",
      "          \"logprobs\": null\n",
      "        },\n",
      "        \"type\": \"Generation\"\n",
      "      }\n",
      "    ]\n",
      "  ],\n",
      "  \"llm_output\": {\n",
      "    \"token_usage\": {},\n",
      "    \"model_name\": \"gpt-3.5-turbo-instruct\"\n",
      "  },\n",
      "  \"run\": null\n",
      "}\n",
      "\u001b[36;1m\u001b[1;3m[chain/end]\u001b[0m \u001b[1m[1:chain:RetrievalQAWithSourcesChain > 3:chain:MapReduceDocumentsChain > 4:chain:LLMChain] [1.04s] Exiting Chain run with output:\n",
      "\u001b[0m{\n",
      "  \"outputs\": [\n",
      "    {\n",
      "      \"text\": \" There is no relevant text related to the price of BNB in the given portion of the long document.\"\n",
      "    },\n",
      "    {\n",
      "      \"text\": \" N/A.\"\n",
      "    },\n",
      "    {\n",
      "      \"text\": \" None\"\n",
      "    },\n",
      "    {\n",
      "      \"text\": \" /None. Sorry, I cannot answer this question as there is no mention of BNB or any other specific currency or stock in this portion of the document.\"\n",
      "    }\n",
      "  ]\n",
      "}\n",
      "\u001b[32;1m\u001b[1;3m[chain/start]\u001b[0m \u001b[1m[1:chain:RetrievalQAWithSourcesChain > 3:chain:MapReduceDocumentsChain > 9:chain:LLMChain] Entering Chain run with input:\n",
      "\u001b[0m{\n",
      "  \"question\": \"what is the price of BNB?\",\n",
      "  \"summaries\": \"Content:  There is no relevant text related to the price of BNB in the given portion of the long document.\\nSource: https://finance.yahoo.com/world-indices/\\n\\nContent:  N/A.\\nSource: https://www.geo.tv/latest/537318-petrol-price-goes-up-by-rs966-per-litre\\n\\nContent:  None\\nSource: https://finance.yahoo.com/world-indices/\\n\\nContent:  /None. Sorry, I cannot answer this question as there is no mention of BNB or any other specific currency or stock in this portion of the document.\\nSource: https://finance.yahoo.com/world-indices/\"\n",
      "}\n",
      "\u001b[32;1m\u001b[1;3m[llm/start]\u001b[0m \u001b[1m[1:chain:RetrievalQAWithSourcesChain > 3:chain:MapReduceDocumentsChain > 9:chain:LLMChain > 10:llm:OpenAI] Entering LLM run with input:\n",
      "\u001b[0m{\n",
      "  \"prompts\": [\n",
      "    \"Given the following extracted parts of a long document and a question, create a final answer with references (\\\"SOURCES\\\"). \\nIf you don't know the answer, just say that you don't know. Don't try to make up an answer.\\nALWAYS return a \\\"SOURCES\\\" part in your answer.\\n\\nQUESTION: Which state/country's law governs the interpretation of the contract?\\n=========\\nContent: This Agreement is governed by English law and the parties submit to the exclusive jurisdiction of the English courts in  relation to any dispute (contractual or non-contractual) concerning this Agreement save that either party may apply to any court for an  injunction or other relief to protect its Intellectual Property Rights.\\nSource: 28-pl\\nContent: No Waiver. Failure or delay in exercising any right or remedy under this Agreement shall not constitute a waiver of such (or any other)  right or remedy.\\n\\n11.7 Severability. The invalidity, illegality or unenforceability of any term (or part of a term) of this Agreement shall not affect the continuation  in force of the remainder of the term (if any) and this Agreement.\\n\\n11.8 No Agency. Except as expressly stated otherwise, nothing in this Agreement shall create an agency, partnership or joint venture of any  kind between the parties.\\n\\n11.9 No Third-Party Beneficiaries.\\nSource: 30-pl\\nContent: (b) if Google believes, in good faith, that the Distributor has violated or caused Google to violate any Anti-Bribery Laws (as  defined in Clause 8.5) or that such a violation is reasonably likely to occur,\\nSource: 4-pl\\n=========\\nFINAL ANSWER: This Agreement is governed by English law.\\nSOURCES: 28-pl\\n\\nQUESTION: What did the president say about Michael Jackson?\\n=========\\nContent: Madam Speaker, Madam Vice President, our First Lady and Second Gentleman. Members of Congress and the Cabinet. Justices of the Supreme Court. My fellow Americans.  \\n\\nLast year COVID-19 kept us apart. This year we are finally together again. \\n\\nTonight, we meet as Democrats Republicans and Independents. But most importantly as Americans. \\n\\nWith a duty to one another to the American people to the Constitution. \\n\\nAnd with an unwavering resolve that freedom will always triumph over tyranny. \\n\\nSix days ago, Russia’s Vladimir Putin sought to shake the foundations of the free world thinking he could make it bend to his menacing ways. But he badly miscalculated. \\n\\nHe thought he could roll into Ukraine and the world would roll over. Instead he met a wall of strength he never imagined. \\n\\nHe met the Ukrainian people. \\n\\nFrom President Zelenskyy to every Ukrainian, their fearlessness, their courage, their determination, inspires the world. \\n\\nGroups of citizens blocking tanks with their bodies. Everyone from students to retirees teachers turned soldiers defending their homeland.\\nSource: 0-pl\\nContent: And we won’t stop. \\n\\nWe have lost so much to COVID-19. Time with one another. And worst of all, so much loss of life. \\n\\nLet’s use this moment to reset. Let’s stop looking at COVID-19 as a partisan dividing line and see it for what it is: A God-awful disease.  \\n\\nLet’s stop seeing each other as enemies, and start seeing each other for who we really are: Fellow Americans.  \\n\\nWe can’t change how divided we’ve been. But we can change how we move forward—on COVID-19 and other issues we must face together. \\n\\nI recently visited the New York City Police Department days after the funerals of Officer Wilbert Mora and his partner, Officer Jason Rivera. \\n\\nThey were responding to a 9-1-1 call when a man shot and killed them with a stolen gun. \\n\\nOfficer Mora was 27 years old. \\n\\nOfficer Rivera was 22. \\n\\nBoth Dominican Americans who’d grown up on the same streets they later chose to patrol as police officers. \\n\\nI spoke with their families and told them that we are forever in debt for their sacrifice, and we will carry on their mission to restore the trust and safety every community deserves.\\nSource: 24-pl\\nContent: And a proud Ukrainian people, who have known 30 years  of independence, have repeatedly shown that they will not tolerate anyone who tries to take their country backwards.  \\n\\nTo all Americans, I will be honest with you, as I’ve always promised. A Russian dictator, invading a foreign country, has costs around the world. \\n\\nAnd I’m taking robust action to make sure the pain of our sanctions  is targeted at Russia’s economy. And I will use every tool at our disposal to protect American businesses and consumers. \\n\\nTonight, I can announce that the United States has worked with 30 other countries to release 60 Million barrels of oil from reserves around the world.  \\n\\nAmerica will lead that effort, releasing 30 Million barrels from our own Strategic Petroleum Reserve. And we stand ready to do more if necessary, unified with our allies.  \\n\\nThese steps will help blunt gas prices here at home. And I know the news about what’s happening can seem alarming. \\n\\nBut I want you to know that we are going to be okay.\\nSource: 5-pl\\nContent: More support for patients and families. \\n\\nTo get there, I call on Congress to fund ARPA-H, the Advanced Research Projects Agency for Health. \\n\\nIt’s based on DARPA—the Defense Department project that led to the Internet, GPS, and so much more.  \\n\\nARPA-H will have a singular purpose—to drive breakthroughs in cancer, Alzheimer’s, diabetes, and more. \\n\\nA unity agenda for the nation. \\n\\nWe can do this. \\n\\nMy fellow Americans—tonight , we have gathered in a sacred space—the citadel of our democracy. \\n\\nIn this Capitol, generation after generation, Americans have debated great questions amid great strife, and have done great things. \\n\\nWe have fought for freedom, expanded liberty, defeated totalitarianism and terror. \\n\\nAnd built the strongest, freest, and most prosperous nation the world has ever known. \\n\\nNow is the hour. \\n\\nOur moment of responsibility. \\n\\nOur test of resolve and conscience, of history itself. \\n\\nIt is in this moment that our character is formed. Our purpose is found. Our future is forged. \\n\\nWell I know this nation.\\nSource: 34-pl\\n=========\\nFINAL ANSWER: The president did not mention Michael Jackson.\\nSOURCES:\\n\\nQUESTION: what is the price of BNB?\\n=========\\nContent:  There is no relevant text related to the price of BNB in the given portion of the long document.\\nSource: https://finance.yahoo.com/world-indices/\\n\\nContent:  N/A.\\nSource: https://www.geo.tv/latest/537318-petrol-price-goes-up-by-rs966-per-litre\\n\\nContent:  None\\nSource: https://finance.yahoo.com/world-indices/\\n\\nContent:  /None. Sorry, I cannot answer this question as there is no mention of BNB or any other specific currency or stock in this portion of the document.\\nSource: https://finance.yahoo.com/world-indices/\\n=========\\nFINAL ANSWER:\"\n",
      "  ]\n",
      "}\n",
      "\u001b[36;1m\u001b[1;3m[llm/end]\u001b[0m \u001b[1m[1:chain:RetrievalQAWithSourcesChain > 3:chain:MapReduceDocumentsChain > 9:chain:LLMChain > 10:llm:OpenAI] [694ms] Exiting LLM run with output:\n",
      "\u001b[0m{\n",
      "  \"generations\": [\n",
      "    [\n",
      "      {\n",
      "        \"text\": \" I don't know.\\nSOURCES: Unable to provide due to lack of relevant content.\",\n",
      "        \"generation_info\": {\n",
      "          \"finish_reason\": \"stop\",\n",
      "          \"logprobs\": null\n",
      "        },\n",
      "        \"type\": \"Generation\"\n",
      "      }\n",
      "    ]\n",
      "  ],\n",
      "  \"llm_output\": {\n",
      "    \"token_usage\": {\n",
      "      \"total_tokens\": 1496,\n",
      "      \"prompt_tokens\": 1478,\n",
      "      \"completion_tokens\": 18\n",
      "    },\n",
      "    \"model_name\": \"gpt-3.5-turbo-instruct\"\n",
      "  },\n",
      "  \"run\": null\n",
      "}\n",
      "\u001b[36;1m\u001b[1;3m[chain/end]\u001b[0m \u001b[1m[1:chain:RetrievalQAWithSourcesChain > 3:chain:MapReduceDocumentsChain > 9:chain:LLMChain] [696ms] Exiting Chain run with output:\n",
      "\u001b[0m{\n",
      "  \"text\": \" I don't know.\\nSOURCES: Unable to provide due to lack of relevant content.\"\n",
      "}\n",
      "\u001b[36;1m\u001b[1;3m[chain/end]\u001b[0m \u001b[1m[1:chain:RetrievalQAWithSourcesChain > 3:chain:MapReduceDocumentsChain] [1.75s] Exiting Chain run with output:\n",
      "\u001b[0m{\n",
      "  \"output_text\": \" I don't know.\\nSOURCES: Unable to provide due to lack of relevant content.\"\n",
      "}\n",
      "\u001b[36;1m\u001b[1;3m[chain/end]\u001b[0m \u001b[1m[1:chain:RetrievalQAWithSourcesChain] [2.73s] Exiting Chain run with output:\n",
      "\u001b[0m{\n",
      "  \"answer\": \" I don't know.\\n\",\n",
      "  \"sources\": \"Unable to provide due to lack of relevant content.\"\n",
      "}\n"
     ]
    },
    {
     "data": {
      "text/plain": [
       "{'answer': \" I don't know.\\n\",\n",
       " 'sources': 'Unable to provide due to lack of relevant content.'}"
      ]
     },
     "execution_count": 35,
     "metadata": {},
     "output_type": "execute_result"
    }
   ],
   "source": [
    "query = \"what is the price of BNB?\"\n",
    "langchain.debug = True\n",
    "chain({\"question\":query}, return_only_outputs = True)"
   ]
  },
  {
   "cell_type": "code",
   "execution_count": null,
   "id": "15eb7457-070d-4c05-86e0-9256de502e69",
   "metadata": {},
   "outputs": [],
   "source": []
  }
 ],
 "metadata": {
  "kernelspec": {
   "display_name": "Python 3 (ipykernel)",
   "language": "python",
   "name": "python3"
  },
  "language_info": {
   "codemirror_mode": {
    "name": "ipython",
    "version": 3
   },
   "file_extension": ".py",
   "mimetype": "text/x-python",
   "name": "python",
   "nbconvert_exporter": "python",
   "pygments_lexer": "ipython3",
   "version": "3.12.2"
  }
 },
 "nbformat": 4,
 "nbformat_minor": 5
}
